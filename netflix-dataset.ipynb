{
  "metadata": {
    "kernelspec": {
      "name": "python",
      "display_name": "Python (Pyodide)",
      "language": "python"
    },
    "language_info": {
      "codemirror_mode": {
        "name": "python",
        "version": 3
      },
      "file_extension": ".py",
      "mimetype": "text/x-python",
      "name": "python",
      "nbconvert_exporter": "python",
      "pygments_lexer": "ipython3",
      "version": "3.8"
    }
  },
  "nbformat_minor": 5,
  "nbformat": 4,
  "cells": [
    {
      "id": "6c971245-66f7-4240-94c8-8ba377b20ab2",
      "cell_type": "code",
      "source": "import pandas as pd             #importing pandas and dataset\ndf = pd.read_csv(\"netflix_titles.csv\")\ndf ",
      "metadata": {
        "trusted": true
      },
      "outputs": [
        {
          "execution_count": 116,
          "output_type": "execute_result",
          "data": {
            "text/plain": "     show_id     type                  title         director  \\\n0         s1    Movie   Dick Johnson Is Dead  Kirsten Johnson   \n1         s2  TV Show          Blood & Water              NaN   \n2         s3  TV Show              Ganglands  Julien Leclercq   \n3         s4  TV Show  Jailbirds New Orleans              NaN   \n4         s5  TV Show           Kota Factory              NaN   \n...      ...      ...                    ...              ...   \n8802   s8803    Movie                 Zodiac    David Fincher   \n8803   s8804  TV Show            Zombie Dumb              NaN   \n8804   s8805    Movie             Zombieland  Ruben Fleischer   \n8805   s8806    Movie                   Zoom     Peter Hewitt   \n8806   s8807    Movie                 Zubaan      Mozez Singh   \n\n                                                   cast        country  \\\n0                                                   NaN  United States   \n1     Ama Qamata, Khosi Ngema, Gail Mabalane, Thaban...   South Africa   \n2     Sami Bouajila, Tracy Gotoas, Samuel Jouy, Nabi...            NaN   \n3                                                   NaN            NaN   \n4     Mayur More, Jitendra Kumar, Ranjan Raj, Alam K...          India   \n...                                                 ...            ...   \n8802  Mark Ruffalo, Jake Gyllenhaal, Robert Downey J...  United States   \n8803                                                NaN            NaN   \n8804  Jesse Eisenberg, Woody Harrelson, Emma Stone, ...  United States   \n8805  Tim Allen, Courteney Cox, Chevy Chase, Kate Ma...  United States   \n8806  Vicky Kaushal, Sarah-Jane Dias, Raaghav Chanan...          India   \n\n              date_added  release_year rating   duration  \\\n0     September 25, 2021          2020  PG-13     90 min   \n1     September 24, 2021          2021  TV-MA  2 Seasons   \n2     September 24, 2021          2021  TV-MA   1 Season   \n3     September 24, 2021          2021  TV-MA   1 Season   \n4     September 24, 2021          2021  TV-MA  2 Seasons   \n...                  ...           ...    ...        ...   \n8802   November 20, 2019          2007      R    158 min   \n8803        July 1, 2019          2018  TV-Y7  2 Seasons   \n8804    November 1, 2019          2009      R     88 min   \n8805    January 11, 2020          2006     PG     88 min   \n8806       March 2, 2019          2015  TV-14    111 min   \n\n                                              listed_in  \\\n0                                         Documentaries   \n1       International TV Shows, TV Dramas, TV Mysteries   \n2     Crime TV Shows, International TV Shows, TV Act...   \n3                                Docuseries, Reality TV   \n4     International TV Shows, Romantic TV Shows, TV ...   \n...                                                 ...   \n8802                     Cult Movies, Dramas, Thrillers   \n8803             Kids' TV, Korean TV Shows, TV Comedies   \n8804                            Comedies, Horror Movies   \n8805                 Children & Family Movies, Comedies   \n8806     Dramas, International Movies, Music & Musicals   \n\n                                            description  \n0     As her father nears the end of his life, filmm...  \n1     After crossing paths at a party, a Cape Town t...  \n2     To protect his family from a powerful drug lor...  \n3     Feuds, flirtations and toilet talk go down amo...  \n4     In a city of coaching centers known to train I...  \n...                                                 ...  \n8802  A political cartoonist, a crime reporter and a...  \n8803  While living alone in a spooky town, a young g...  \n8804  Looking to survive in a world taken over by zo...  \n8805  Dragged from civilian life, a former superhero...  \n8806  A scrappy but poor boy worms his way into a ty...  \n\n[8807 rows x 12 columns]",
            "text/html": "<div>\n<style scoped>\n    .dataframe tbody tr th:only-of-type {\n        vertical-align: middle;\n    }\n\n    .dataframe tbody tr th {\n        vertical-align: top;\n    }\n\n    .dataframe thead th {\n        text-align: right;\n    }\n</style>\n<table border=\"1\" class=\"dataframe\">\n  <thead>\n    <tr style=\"text-align: right;\">\n      <th></th>\n      <th>show_id</th>\n      <th>type</th>\n      <th>title</th>\n      <th>director</th>\n      <th>cast</th>\n      <th>country</th>\n      <th>date_added</th>\n      <th>release_year</th>\n      <th>rating</th>\n      <th>duration</th>\n      <th>listed_in</th>\n      <th>description</th>\n    </tr>\n  </thead>\n  <tbody>\n    <tr>\n      <th>0</th>\n      <td>s1</td>\n      <td>Movie</td>\n      <td>Dick Johnson Is Dead</td>\n      <td>Kirsten Johnson</td>\n      <td>NaN</td>\n      <td>United States</td>\n      <td>September 25, 2021</td>\n      <td>2020</td>\n      <td>PG-13</td>\n      <td>90 min</td>\n      <td>Documentaries</td>\n      <td>As her father nears the end of his life, filmm...</td>\n    </tr>\n    <tr>\n      <th>1</th>\n      <td>s2</td>\n      <td>TV Show</td>\n      <td>Blood &amp; Water</td>\n      <td>NaN</td>\n      <td>Ama Qamata, Khosi Ngema, Gail Mabalane, Thaban...</td>\n      <td>South Africa</td>\n      <td>September 24, 2021</td>\n      <td>2021</td>\n      <td>TV-MA</td>\n      <td>2 Seasons</td>\n      <td>International TV Shows, TV Dramas, TV Mysteries</td>\n      <td>After crossing paths at a party, a Cape Town t...</td>\n    </tr>\n    <tr>\n      <th>2</th>\n      <td>s3</td>\n      <td>TV Show</td>\n      <td>Ganglands</td>\n      <td>Julien Leclercq</td>\n      <td>Sami Bouajila, Tracy Gotoas, Samuel Jouy, Nabi...</td>\n      <td>NaN</td>\n      <td>September 24, 2021</td>\n      <td>2021</td>\n      <td>TV-MA</td>\n      <td>1 Season</td>\n      <td>Crime TV Shows, International TV Shows, TV Act...</td>\n      <td>To protect his family from a powerful drug lor...</td>\n    </tr>\n    <tr>\n      <th>3</th>\n      <td>s4</td>\n      <td>TV Show</td>\n      <td>Jailbirds New Orleans</td>\n      <td>NaN</td>\n      <td>NaN</td>\n      <td>NaN</td>\n      <td>September 24, 2021</td>\n      <td>2021</td>\n      <td>TV-MA</td>\n      <td>1 Season</td>\n      <td>Docuseries, Reality TV</td>\n      <td>Feuds, flirtations and toilet talk go down amo...</td>\n    </tr>\n    <tr>\n      <th>4</th>\n      <td>s5</td>\n      <td>TV Show</td>\n      <td>Kota Factory</td>\n      <td>NaN</td>\n      <td>Mayur More, Jitendra Kumar, Ranjan Raj, Alam K...</td>\n      <td>India</td>\n      <td>September 24, 2021</td>\n      <td>2021</td>\n      <td>TV-MA</td>\n      <td>2 Seasons</td>\n      <td>International TV Shows, Romantic TV Shows, TV ...</td>\n      <td>In a city of coaching centers known to train I...</td>\n    </tr>\n    <tr>\n      <th>...</th>\n      <td>...</td>\n      <td>...</td>\n      <td>...</td>\n      <td>...</td>\n      <td>...</td>\n      <td>...</td>\n      <td>...</td>\n      <td>...</td>\n      <td>...</td>\n      <td>...</td>\n      <td>...</td>\n      <td>...</td>\n    </tr>\n    <tr>\n      <th>8802</th>\n      <td>s8803</td>\n      <td>Movie</td>\n      <td>Zodiac</td>\n      <td>David Fincher</td>\n      <td>Mark Ruffalo, Jake Gyllenhaal, Robert Downey J...</td>\n      <td>United States</td>\n      <td>November 20, 2019</td>\n      <td>2007</td>\n      <td>R</td>\n      <td>158 min</td>\n      <td>Cult Movies, Dramas, Thrillers</td>\n      <td>A political cartoonist, a crime reporter and a...</td>\n    </tr>\n    <tr>\n      <th>8803</th>\n      <td>s8804</td>\n      <td>TV Show</td>\n      <td>Zombie Dumb</td>\n      <td>NaN</td>\n      <td>NaN</td>\n      <td>NaN</td>\n      <td>July 1, 2019</td>\n      <td>2018</td>\n      <td>TV-Y7</td>\n      <td>2 Seasons</td>\n      <td>Kids' TV, Korean TV Shows, TV Comedies</td>\n      <td>While living alone in a spooky town, a young g...</td>\n    </tr>\n    <tr>\n      <th>8804</th>\n      <td>s8805</td>\n      <td>Movie</td>\n      <td>Zombieland</td>\n      <td>Ruben Fleischer</td>\n      <td>Jesse Eisenberg, Woody Harrelson, Emma Stone, ...</td>\n      <td>United States</td>\n      <td>November 1, 2019</td>\n      <td>2009</td>\n      <td>R</td>\n      <td>88 min</td>\n      <td>Comedies, Horror Movies</td>\n      <td>Looking to survive in a world taken over by zo...</td>\n    </tr>\n    <tr>\n      <th>8805</th>\n      <td>s8806</td>\n      <td>Movie</td>\n      <td>Zoom</td>\n      <td>Peter Hewitt</td>\n      <td>Tim Allen, Courteney Cox, Chevy Chase, Kate Ma...</td>\n      <td>United States</td>\n      <td>January 11, 2020</td>\n      <td>2006</td>\n      <td>PG</td>\n      <td>88 min</td>\n      <td>Children &amp; Family Movies, Comedies</td>\n      <td>Dragged from civilian life, a former superhero...</td>\n    </tr>\n    <tr>\n      <th>8806</th>\n      <td>s8807</td>\n      <td>Movie</td>\n      <td>Zubaan</td>\n      <td>Mozez Singh</td>\n      <td>Vicky Kaushal, Sarah-Jane Dias, Raaghav Chanan...</td>\n      <td>India</td>\n      <td>March 2, 2019</td>\n      <td>2015</td>\n      <td>TV-14</td>\n      <td>111 min</td>\n      <td>Dramas, International Movies, Music &amp; Musicals</td>\n      <td>A scrappy but poor boy worms his way into a ty...</td>\n    </tr>\n  </tbody>\n</table>\n<p>8807 rows × 12 columns</p>\n</div>"
          },
          "metadata": {}
        }
      ],
      "execution_count": 116
    },
    {
      "id": "ed15cc30-3d13-4509-a96b-6ed920e098c0",
      "cell_type": "code",
      "source": "df.isnull().sum() #1 Identify and handle missing values using .isnull() in Python or filters in Excel.",
      "metadata": {
        "trusted": true
      },
      "outputs": [
        {
          "execution_count": 117,
          "output_type": "execute_result",
          "data": {
            "text/plain": "show_id            0\ntype               0\ntitle              0\ndirector        2634\ncast             825\ncountry          831\ndate_added        10\nrelease_year       0\nrating             4\nduration           3\nlisted_in          0\ndescription        0\ndtype: int64"
          },
          "metadata": {}
        }
      ],
      "execution_count": 117
    },
    {
      "id": "82b35d0e-6ca3-4efd-a275-77db2fbadf4a",
      "cell_type": "code",
      "source": "df = df.fillna('NIL')  #null values converted to NIL\ndf.isnull().sum() #Checking whether any duplicate values present",
      "metadata": {
        "trusted": true
      },
      "outputs": [
        {
          "execution_count": 118,
          "output_type": "execute_result",
          "data": {
            "text/plain": "show_id         0\ntype            0\ntitle           0\ndirector        0\ncast            0\ncountry         0\ndate_added      0\nrelease_year    0\nrating          0\nduration        0\nlisted_in       0\ndescription     0\ndtype: int64"
          },
          "metadata": {}
        }
      ],
      "execution_count": 118
    },
    {
      "id": "318d603d-8052-44b9-ba2b-4f1a78cc8bbb",
      "cell_type": "code",
      "source": "df = df.drop_duplicates()  #2 Remove duplicate rows using .drop_duplicates() or Excel’s “Remove Duplicates”.\ndf.duplicated().sum() #Check duplicates\n",
      "metadata": {
        "trusted": true
      },
      "outputs": [
        {
          "execution_count": 119,
          "output_type": "execute_result",
          "data": {
            "text/plain": "np.int64(0)"
          },
          "metadata": {}
        }
      ],
      "execution_count": 119
    },
    {
      "id": "03f2f5cc-e1d7-4501-ac41-1c01c5e7e143",
      "cell_type": "code",
      "source": "if \"show_id\" in df.columns:            #3 Standardize text values like gender, country names, etc.\n    df[\"show_id\"] = df[\"show_id\"].str.upper()\nif \"duration\" in df.columns:\n    df[\"duration\"] = df[\"duration\"].str.title()\nif \"rating\" in df.columns:\n    df[\"rating\"] = df[\"rating\"].str.upper()\nif \"type\" in df.columns:\n    df[\"type\"] = df[\"type\"].str.title()\nif \"listed_in\" in df.columns:\n    df[\"listed_in\"] = df[\"listed_in\"].str.title()\n\ndf.head(5)",
      "metadata": {
        "trusted": true
      },
      "outputs": [
        {
          "execution_count": 120,
          "output_type": "execute_result",
          "data": {
            "text/plain": "  show_id     type                  title         director  \\\n0      S1    Movie   Dick Johnson Is Dead  Kirsten Johnson   \n1      S2  Tv Show          Blood & Water              NIL   \n2      S3  Tv Show              Ganglands  Julien Leclercq   \n3      S4  Tv Show  Jailbirds New Orleans              NIL   \n4      S5  Tv Show           Kota Factory              NIL   \n\n                                                cast        country  \\\n0                                                NIL  United States   \n1  Ama Qamata, Khosi Ngema, Gail Mabalane, Thaban...   South Africa   \n2  Sami Bouajila, Tracy Gotoas, Samuel Jouy, Nabi...            NIL   \n3                                                NIL            NIL   \n4  Mayur More, Jitendra Kumar, Ranjan Raj, Alam K...          India   \n\n           date_added  release_year rating   duration  \\\n0  September 25, 2021          2020  PG-13     90 Min   \n1  September 24, 2021          2021  TV-MA  2 Seasons   \n2  September 24, 2021          2021  TV-MA   1 Season   \n3  September 24, 2021          2021  TV-MA   1 Season   \n4  September 24, 2021          2021  TV-MA  2 Seasons   \n\n                                           listed_in  \\\n0                                      Documentaries   \n1    International Tv Shows, Tv Dramas, Tv Mysteries   \n2  Crime Tv Shows, International Tv Shows, Tv Act...   \n3                             Docuseries, Reality Tv   \n4  International Tv Shows, Romantic Tv Shows, Tv ...   \n\n                                         description  \n0  As her father nears the end of his life, filmm...  \n1  After crossing paths at a party, a Cape Town t...  \n2  To protect his family from a powerful drug lor...  \n3  Feuds, flirtations and toilet talk go down amo...  \n4  In a city of coaching centers known to train I...  ",
            "text/html": "<div>\n<style scoped>\n    .dataframe tbody tr th:only-of-type {\n        vertical-align: middle;\n    }\n\n    .dataframe tbody tr th {\n        vertical-align: top;\n    }\n\n    .dataframe thead th {\n        text-align: right;\n    }\n</style>\n<table border=\"1\" class=\"dataframe\">\n  <thead>\n    <tr style=\"text-align: right;\">\n      <th></th>\n      <th>show_id</th>\n      <th>type</th>\n      <th>title</th>\n      <th>director</th>\n      <th>cast</th>\n      <th>country</th>\n      <th>date_added</th>\n      <th>release_year</th>\n      <th>rating</th>\n      <th>duration</th>\n      <th>listed_in</th>\n      <th>description</th>\n    </tr>\n  </thead>\n  <tbody>\n    <tr>\n      <th>0</th>\n      <td>S1</td>\n      <td>Movie</td>\n      <td>Dick Johnson Is Dead</td>\n      <td>Kirsten Johnson</td>\n      <td>NIL</td>\n      <td>United States</td>\n      <td>September 25, 2021</td>\n      <td>2020</td>\n      <td>PG-13</td>\n      <td>90 Min</td>\n      <td>Documentaries</td>\n      <td>As her father nears the end of his life, filmm...</td>\n    </tr>\n    <tr>\n      <th>1</th>\n      <td>S2</td>\n      <td>Tv Show</td>\n      <td>Blood &amp; Water</td>\n      <td>NIL</td>\n      <td>Ama Qamata, Khosi Ngema, Gail Mabalane, Thaban...</td>\n      <td>South Africa</td>\n      <td>September 24, 2021</td>\n      <td>2021</td>\n      <td>TV-MA</td>\n      <td>2 Seasons</td>\n      <td>International Tv Shows, Tv Dramas, Tv Mysteries</td>\n      <td>After crossing paths at a party, a Cape Town t...</td>\n    </tr>\n    <tr>\n      <th>2</th>\n      <td>S3</td>\n      <td>Tv Show</td>\n      <td>Ganglands</td>\n      <td>Julien Leclercq</td>\n      <td>Sami Bouajila, Tracy Gotoas, Samuel Jouy, Nabi...</td>\n      <td>NIL</td>\n      <td>September 24, 2021</td>\n      <td>2021</td>\n      <td>TV-MA</td>\n      <td>1 Season</td>\n      <td>Crime Tv Shows, International Tv Shows, Tv Act...</td>\n      <td>To protect his family from a powerful drug lor...</td>\n    </tr>\n    <tr>\n      <th>3</th>\n      <td>S4</td>\n      <td>Tv Show</td>\n      <td>Jailbirds New Orleans</td>\n      <td>NIL</td>\n      <td>NIL</td>\n      <td>NIL</td>\n      <td>September 24, 2021</td>\n      <td>2021</td>\n      <td>TV-MA</td>\n      <td>1 Season</td>\n      <td>Docuseries, Reality Tv</td>\n      <td>Feuds, flirtations and toilet talk go down amo...</td>\n    </tr>\n    <tr>\n      <th>4</th>\n      <td>S5</td>\n      <td>Tv Show</td>\n      <td>Kota Factory</td>\n      <td>NIL</td>\n      <td>Mayur More, Jitendra Kumar, Ranjan Raj, Alam K...</td>\n      <td>India</td>\n      <td>September 24, 2021</td>\n      <td>2021</td>\n      <td>TV-MA</td>\n      <td>2 Seasons</td>\n      <td>International Tv Shows, Romantic Tv Shows, Tv ...</td>\n      <td>In a city of coaching centers known to train I...</td>\n    </tr>\n  </tbody>\n</table>\n</div>"
          },
          "metadata": {}
        }
      ],
      "execution_count": 120
    },
    {
      "id": "16e98f04-85e9-41ca-8529-b82dd9341914",
      "cell_type": "code",
      "source": "# 5. Convert date formats to a consistent type (dd-mm-yyyy)\nif \"date_added\" in df.columns:\n    df[\"date_added\"] = pd.to_datetime(df[\"date_added\"], errors=\"coerce\", dayfirst=True)\n    \n# Display in dd-mm-yyyy format\ndf[\"date_added\"].dt.strftime(\"%d-%m-%Y\").head(10)\n",
      "metadata": {
        "trusted": true
      },
      "outputs": [
        {
          "execution_count": 121,
          "output_type": "execute_result",
          "data": {
            "text/plain": "0    25-09-2021\n1    24-09-2021\n2    24-09-2021\n3    24-09-2021\n4    24-09-2021\n5    24-09-2021\n6    24-09-2021\n7    24-09-2021\n8    24-09-2021\n9    24-09-2021\nName: date_added, dtype: object"
          },
          "metadata": {}
        }
      ],
      "execution_count": 121
    },
    {
      "id": "c77e3d49-2a2c-4b00-8c56-1cd61c638552",
      "cell_type": "code",
      "source": "#6 Rename column headers to be clean and uniform (e.g., lowercase, no spaces)\ndf.columns = df.columns.str.lower().str.replace(\" \", \"_\")\ndf.head(10)",
      "metadata": {
        "trusted": true
      },
      "outputs": [
        {
          "execution_count": 122,
          "output_type": "execute_result",
          "data": {
            "text/plain": "  show_id     type                             title  \\\n0      S1    Movie              Dick Johnson Is Dead   \n1      S2  Tv Show                     Blood & Water   \n2      S3  Tv Show                         Ganglands   \n3      S4  Tv Show             Jailbirds New Orleans   \n4      S5  Tv Show                      Kota Factory   \n5      S6  Tv Show                     Midnight Mass   \n6      S7    Movie  My Little Pony: A New Generation   \n7      S8    Movie                           Sankofa   \n8      S9  Tv Show     The Great British Baking Show   \n9     S10    Movie                      The Starling   \n\n                        director  \\\n0                Kirsten Johnson   \n1                            NIL   \n2                Julien Leclercq   \n3                            NIL   \n4                            NIL   \n5                  Mike Flanagan   \n6  Robert Cullen, José Luis Ucha   \n7                   Haile Gerima   \n8                Andy Devonshire   \n9                 Theodore Melfi   \n\n                                                cast  \\\n0                                                NIL   \n1  Ama Qamata, Khosi Ngema, Gail Mabalane, Thaban...   \n2  Sami Bouajila, Tracy Gotoas, Samuel Jouy, Nabi...   \n3                                                NIL   \n4  Mayur More, Jitendra Kumar, Ranjan Raj, Alam K...   \n5  Kate Siegel, Zach Gilford, Hamish Linklater, H...   \n6  Vanessa Hudgens, Kimiko Glenn, James Marsden, ...   \n7  Kofi Ghanaba, Oyafunmike Ogunlano, Alexandra D...   \n8  Mel Giedroyc, Sue Perkins, Mary Berry, Paul Ho...   \n9  Melissa McCarthy, Chris O'Dowd, Kevin Kline, T...   \n\n                                             country date_added  release_year  \\\n0                                      United States 2021-09-25          2020   \n1                                       South Africa 2021-09-24          2021   \n2                                                NIL 2021-09-24          2021   \n3                                                NIL 2021-09-24          2021   \n4                                              India 2021-09-24          2021   \n5                                                NIL 2021-09-24          2021   \n6                                                NIL 2021-09-24          2021   \n7  United States, Ghana, Burkina Faso, United Kin... 2021-09-24          1993   \n8                                     United Kingdom 2021-09-24          2021   \n9                                      United States 2021-09-24          2021   \n\n  rating   duration                                          listed_in  \\\n0  PG-13     90 Min                                      Documentaries   \n1  TV-MA  2 Seasons    International Tv Shows, Tv Dramas, Tv Mysteries   \n2  TV-MA   1 Season  Crime Tv Shows, International Tv Shows, Tv Act...   \n3  TV-MA   1 Season                             Docuseries, Reality Tv   \n4  TV-MA  2 Seasons  International Tv Shows, Romantic Tv Shows, Tv ...   \n5  TV-MA   1 Season                 Tv Dramas, Tv Horror, Tv Mysteries   \n6     PG     91 Min                           Children & Family Movies   \n7  TV-MA    125 Min   Dramas, Independent Movies, International Movies   \n8  TV-14  9 Seasons                       British Tv Shows, Reality Tv   \n9  PG-13    104 Min                                   Comedies, Dramas   \n\n                                         description  \n0  As her father nears the end of his life, filmm...  \n1  After crossing paths at a party, a Cape Town t...  \n2  To protect his family from a powerful drug lor...  \n3  Feuds, flirtations and toilet talk go down amo...  \n4  In a city of coaching centers known to train I...  \n5  The arrival of a charismatic young priest brin...  \n6  Equestria's divided. But a bright-eyed hero be...  \n7  On a photo shoot in Ghana, an American model s...  \n8  A talented batch of amateur bakers face off in...  \n9  A woman adjusting to life after a loss contend...  ",
            "text/html": "<div>\n<style scoped>\n    .dataframe tbody tr th:only-of-type {\n        vertical-align: middle;\n    }\n\n    .dataframe tbody tr th {\n        vertical-align: top;\n    }\n\n    .dataframe thead th {\n        text-align: right;\n    }\n</style>\n<table border=\"1\" class=\"dataframe\">\n  <thead>\n    <tr style=\"text-align: right;\">\n      <th></th>\n      <th>show_id</th>\n      <th>type</th>\n      <th>title</th>\n      <th>director</th>\n      <th>cast</th>\n      <th>country</th>\n      <th>date_added</th>\n      <th>release_year</th>\n      <th>rating</th>\n      <th>duration</th>\n      <th>listed_in</th>\n      <th>description</th>\n    </tr>\n  </thead>\n  <tbody>\n    <tr>\n      <th>0</th>\n      <td>S1</td>\n      <td>Movie</td>\n      <td>Dick Johnson Is Dead</td>\n      <td>Kirsten Johnson</td>\n      <td>NIL</td>\n      <td>United States</td>\n      <td>2021-09-25</td>\n      <td>2020</td>\n      <td>PG-13</td>\n      <td>90 Min</td>\n      <td>Documentaries</td>\n      <td>As her father nears the end of his life, filmm...</td>\n    </tr>\n    <tr>\n      <th>1</th>\n      <td>S2</td>\n      <td>Tv Show</td>\n      <td>Blood &amp; Water</td>\n      <td>NIL</td>\n      <td>Ama Qamata, Khosi Ngema, Gail Mabalane, Thaban...</td>\n      <td>South Africa</td>\n      <td>2021-09-24</td>\n      <td>2021</td>\n      <td>TV-MA</td>\n      <td>2 Seasons</td>\n      <td>International Tv Shows, Tv Dramas, Tv Mysteries</td>\n      <td>After crossing paths at a party, a Cape Town t...</td>\n    </tr>\n    <tr>\n      <th>2</th>\n      <td>S3</td>\n      <td>Tv Show</td>\n      <td>Ganglands</td>\n      <td>Julien Leclercq</td>\n      <td>Sami Bouajila, Tracy Gotoas, Samuel Jouy, Nabi...</td>\n      <td>NIL</td>\n      <td>2021-09-24</td>\n      <td>2021</td>\n      <td>TV-MA</td>\n      <td>1 Season</td>\n      <td>Crime Tv Shows, International Tv Shows, Tv Act...</td>\n      <td>To protect his family from a powerful drug lor...</td>\n    </tr>\n    <tr>\n      <th>3</th>\n      <td>S4</td>\n      <td>Tv Show</td>\n      <td>Jailbirds New Orleans</td>\n      <td>NIL</td>\n      <td>NIL</td>\n      <td>NIL</td>\n      <td>2021-09-24</td>\n      <td>2021</td>\n      <td>TV-MA</td>\n      <td>1 Season</td>\n      <td>Docuseries, Reality Tv</td>\n      <td>Feuds, flirtations and toilet talk go down amo...</td>\n    </tr>\n    <tr>\n      <th>4</th>\n      <td>S5</td>\n      <td>Tv Show</td>\n      <td>Kota Factory</td>\n      <td>NIL</td>\n      <td>Mayur More, Jitendra Kumar, Ranjan Raj, Alam K...</td>\n      <td>India</td>\n      <td>2021-09-24</td>\n      <td>2021</td>\n      <td>TV-MA</td>\n      <td>2 Seasons</td>\n      <td>International Tv Shows, Romantic Tv Shows, Tv ...</td>\n      <td>In a city of coaching centers known to train I...</td>\n    </tr>\n    <tr>\n      <th>5</th>\n      <td>S6</td>\n      <td>Tv Show</td>\n      <td>Midnight Mass</td>\n      <td>Mike Flanagan</td>\n      <td>Kate Siegel, Zach Gilford, Hamish Linklater, H...</td>\n      <td>NIL</td>\n      <td>2021-09-24</td>\n      <td>2021</td>\n      <td>TV-MA</td>\n      <td>1 Season</td>\n      <td>Tv Dramas, Tv Horror, Tv Mysteries</td>\n      <td>The arrival of a charismatic young priest brin...</td>\n    </tr>\n    <tr>\n      <th>6</th>\n      <td>S7</td>\n      <td>Movie</td>\n      <td>My Little Pony: A New Generation</td>\n      <td>Robert Cullen, José Luis Ucha</td>\n      <td>Vanessa Hudgens, Kimiko Glenn, James Marsden, ...</td>\n      <td>NIL</td>\n      <td>2021-09-24</td>\n      <td>2021</td>\n      <td>PG</td>\n      <td>91 Min</td>\n      <td>Children &amp; Family Movies</td>\n      <td>Equestria's divided. But a bright-eyed hero be...</td>\n    </tr>\n    <tr>\n      <th>7</th>\n      <td>S8</td>\n      <td>Movie</td>\n      <td>Sankofa</td>\n      <td>Haile Gerima</td>\n      <td>Kofi Ghanaba, Oyafunmike Ogunlano, Alexandra D...</td>\n      <td>United States, Ghana, Burkina Faso, United Kin...</td>\n      <td>2021-09-24</td>\n      <td>1993</td>\n      <td>TV-MA</td>\n      <td>125 Min</td>\n      <td>Dramas, Independent Movies, International Movies</td>\n      <td>On a photo shoot in Ghana, an American model s...</td>\n    </tr>\n    <tr>\n      <th>8</th>\n      <td>S9</td>\n      <td>Tv Show</td>\n      <td>The Great British Baking Show</td>\n      <td>Andy Devonshire</td>\n      <td>Mel Giedroyc, Sue Perkins, Mary Berry, Paul Ho...</td>\n      <td>United Kingdom</td>\n      <td>2021-09-24</td>\n      <td>2021</td>\n      <td>TV-14</td>\n      <td>9 Seasons</td>\n      <td>British Tv Shows, Reality Tv</td>\n      <td>A talented batch of amateur bakers face off in...</td>\n    </tr>\n    <tr>\n      <th>9</th>\n      <td>S10</td>\n      <td>Movie</td>\n      <td>The Starling</td>\n      <td>Theodore Melfi</td>\n      <td>Melissa McCarthy, Chris O'Dowd, Kevin Kline, T...</td>\n      <td>United States</td>\n      <td>2021-09-24</td>\n      <td>2021</td>\n      <td>PG-13</td>\n      <td>104 Min</td>\n      <td>Comedies, Dramas</td>\n      <td>A woman adjusting to life after a loss contend...</td>\n    </tr>\n  </tbody>\n</table>\n</div>"
          },
          "metadata": {}
        }
      ],
      "execution_count": 122
    },
    {
      "id": "eecb5474-2e11-4712-a1de-dc09d8b2b2ca",
      "cell_type": "code",
      "source": "#7 Check and fix data types (e.g., age should be int, date as datetime)\nprint(df.dtypes)\n",
      "metadata": {
        "trusted": true
      },
      "outputs": [
        {
          "name": "stdout",
          "output_type": "stream",
          "text": "show_id                 object\ntype                    object\ntitle                   object\ndirector                object\ncast                    object\ncountry                 object\ndate_added      datetime64[ns]\nrelease_year             int64\nrating                  object\nduration                object\nlisted_in               object\ndescription             object\ndtype: object\n"
        }
      ],
      "execution_count": 123
    },
    {
      "id": "a2700702-754a-417a-b4c6-7e6171287fa6",
      "cell_type": "code",
      "source": "\n\n# Example: Convert date_added to datetime\nif 'date_added' in df.columns:\n    df['date_added'] = pd.to_datetime(df['date_added'], errors='coerce', dayfirst=True)\n\n# Example: Convert an 'age' column to integer if it exists\nif 'age' in df.columns:\n    df['age'] = pd.to_numeric(df['age'], errors='coerce').astype('Int64')\n",
      "metadata": {
        "trusted": true
      },
      "outputs": [],
      "execution_count": 124
    },
    {
      "id": "b0882c62-538c-4361-b0c5-1914898bb255",
      "cell_type": "code",
      "source": "print(df.dtypes)\n",
      "metadata": {
        "trusted": true
      },
      "outputs": [
        {
          "name": "stdout",
          "output_type": "stream",
          "text": "show_id                 object\ntype                    object\ntitle                   object\ndirector                object\ncast                    object\ncountry                 object\ndate_added      datetime64[ns]\nrelease_year             int64\nrating                  object\nduration                object\nlisted_in               object\ndescription             object\ndtype: object\n"
        }
      ],
      "execution_count": 125
    },
    {
      "id": "4430dbc5-d3d3-42f7-ba0d-8772eaf55708",
      "cell_type": "code",
      "source": "df #final df",
      "metadata": {
        "trusted": true
      },
      "outputs": [
        {
          "execution_count": 126,
          "output_type": "execute_result",
          "data": {
            "text/plain": "     show_id     type                  title         director  \\\n0         S1    Movie   Dick Johnson Is Dead  Kirsten Johnson   \n1         S2  Tv Show          Blood & Water              NIL   \n2         S3  Tv Show              Ganglands  Julien Leclercq   \n3         S4  Tv Show  Jailbirds New Orleans              NIL   \n4         S5  Tv Show           Kota Factory              NIL   \n...      ...      ...                    ...              ...   \n8802   S8803    Movie                 Zodiac    David Fincher   \n8803   S8804  Tv Show            Zombie Dumb              NIL   \n8804   S8805    Movie             Zombieland  Ruben Fleischer   \n8805   S8806    Movie                   Zoom     Peter Hewitt   \n8806   S8807    Movie                 Zubaan      Mozez Singh   \n\n                                                   cast        country  \\\n0                                                   NIL  United States   \n1     Ama Qamata, Khosi Ngema, Gail Mabalane, Thaban...   South Africa   \n2     Sami Bouajila, Tracy Gotoas, Samuel Jouy, Nabi...            NIL   \n3                                                   NIL            NIL   \n4     Mayur More, Jitendra Kumar, Ranjan Raj, Alam K...          India   \n...                                                 ...            ...   \n8802  Mark Ruffalo, Jake Gyllenhaal, Robert Downey J...  United States   \n8803                                                NIL            NIL   \n8804  Jesse Eisenberg, Woody Harrelson, Emma Stone, ...  United States   \n8805  Tim Allen, Courteney Cox, Chevy Chase, Kate Ma...  United States   \n8806  Vicky Kaushal, Sarah-Jane Dias, Raaghav Chanan...          India   \n\n     date_added  release_year rating   duration  \\\n0    2021-09-25          2020  PG-13     90 Min   \n1    2021-09-24          2021  TV-MA  2 Seasons   \n2    2021-09-24          2021  TV-MA   1 Season   \n3    2021-09-24          2021  TV-MA   1 Season   \n4    2021-09-24          2021  TV-MA  2 Seasons   \n...         ...           ...    ...        ...   \n8802 2019-11-20          2007      R    158 Min   \n8803 2019-07-01          2018  TV-Y7  2 Seasons   \n8804 2019-11-01          2009      R     88 Min   \n8805 2020-01-11          2006     PG     88 Min   \n8806 2019-03-02          2015  TV-14    111 Min   \n\n                                              listed_in  \\\n0                                         Documentaries   \n1       International Tv Shows, Tv Dramas, Tv Mysteries   \n2     Crime Tv Shows, International Tv Shows, Tv Act...   \n3                                Docuseries, Reality Tv   \n4     International Tv Shows, Romantic Tv Shows, Tv ...   \n...                                                 ...   \n8802                     Cult Movies, Dramas, Thrillers   \n8803             Kids' Tv, Korean Tv Shows, Tv Comedies   \n8804                            Comedies, Horror Movies   \n8805                 Children & Family Movies, Comedies   \n8806     Dramas, International Movies, Music & Musicals   \n\n                                            description  \n0     As her father nears the end of his life, filmm...  \n1     After crossing paths at a party, a Cape Town t...  \n2     To protect his family from a powerful drug lor...  \n3     Feuds, flirtations and toilet talk go down amo...  \n4     In a city of coaching centers known to train I...  \n...                                                 ...  \n8802  A political cartoonist, a crime reporter and a...  \n8803  While living alone in a spooky town, a young g...  \n8804  Looking to survive in a world taken over by zo...  \n8805  Dragged from civilian life, a former superhero...  \n8806  A scrappy but poor boy worms his way into a ty...  \n\n[8807 rows x 12 columns]",
            "text/html": "<div>\n<style scoped>\n    .dataframe tbody tr th:only-of-type {\n        vertical-align: middle;\n    }\n\n    .dataframe tbody tr th {\n        vertical-align: top;\n    }\n\n    .dataframe thead th {\n        text-align: right;\n    }\n</style>\n<table border=\"1\" class=\"dataframe\">\n  <thead>\n    <tr style=\"text-align: right;\">\n      <th></th>\n      <th>show_id</th>\n      <th>type</th>\n      <th>title</th>\n      <th>director</th>\n      <th>cast</th>\n      <th>country</th>\n      <th>date_added</th>\n      <th>release_year</th>\n      <th>rating</th>\n      <th>duration</th>\n      <th>listed_in</th>\n      <th>description</th>\n    </tr>\n  </thead>\n  <tbody>\n    <tr>\n      <th>0</th>\n      <td>S1</td>\n      <td>Movie</td>\n      <td>Dick Johnson Is Dead</td>\n      <td>Kirsten Johnson</td>\n      <td>NIL</td>\n      <td>United States</td>\n      <td>2021-09-25</td>\n      <td>2020</td>\n      <td>PG-13</td>\n      <td>90 Min</td>\n      <td>Documentaries</td>\n      <td>As her father nears the end of his life, filmm...</td>\n    </tr>\n    <tr>\n      <th>1</th>\n      <td>S2</td>\n      <td>Tv Show</td>\n      <td>Blood &amp; Water</td>\n      <td>NIL</td>\n      <td>Ama Qamata, Khosi Ngema, Gail Mabalane, Thaban...</td>\n      <td>South Africa</td>\n      <td>2021-09-24</td>\n      <td>2021</td>\n      <td>TV-MA</td>\n      <td>2 Seasons</td>\n      <td>International Tv Shows, Tv Dramas, Tv Mysteries</td>\n      <td>After crossing paths at a party, a Cape Town t...</td>\n    </tr>\n    <tr>\n      <th>2</th>\n      <td>S3</td>\n      <td>Tv Show</td>\n      <td>Ganglands</td>\n      <td>Julien Leclercq</td>\n      <td>Sami Bouajila, Tracy Gotoas, Samuel Jouy, Nabi...</td>\n      <td>NIL</td>\n      <td>2021-09-24</td>\n      <td>2021</td>\n      <td>TV-MA</td>\n      <td>1 Season</td>\n      <td>Crime Tv Shows, International Tv Shows, Tv Act...</td>\n      <td>To protect his family from a powerful drug lor...</td>\n    </tr>\n    <tr>\n      <th>3</th>\n      <td>S4</td>\n      <td>Tv Show</td>\n      <td>Jailbirds New Orleans</td>\n      <td>NIL</td>\n      <td>NIL</td>\n      <td>NIL</td>\n      <td>2021-09-24</td>\n      <td>2021</td>\n      <td>TV-MA</td>\n      <td>1 Season</td>\n      <td>Docuseries, Reality Tv</td>\n      <td>Feuds, flirtations and toilet talk go down amo...</td>\n    </tr>\n    <tr>\n      <th>4</th>\n      <td>S5</td>\n      <td>Tv Show</td>\n      <td>Kota Factory</td>\n      <td>NIL</td>\n      <td>Mayur More, Jitendra Kumar, Ranjan Raj, Alam K...</td>\n      <td>India</td>\n      <td>2021-09-24</td>\n      <td>2021</td>\n      <td>TV-MA</td>\n      <td>2 Seasons</td>\n      <td>International Tv Shows, Romantic Tv Shows, Tv ...</td>\n      <td>In a city of coaching centers known to train I...</td>\n    </tr>\n    <tr>\n      <th>...</th>\n      <td>...</td>\n      <td>...</td>\n      <td>...</td>\n      <td>...</td>\n      <td>...</td>\n      <td>...</td>\n      <td>...</td>\n      <td>...</td>\n      <td>...</td>\n      <td>...</td>\n      <td>...</td>\n      <td>...</td>\n    </tr>\n    <tr>\n      <th>8802</th>\n      <td>S8803</td>\n      <td>Movie</td>\n      <td>Zodiac</td>\n      <td>David Fincher</td>\n      <td>Mark Ruffalo, Jake Gyllenhaal, Robert Downey J...</td>\n      <td>United States</td>\n      <td>2019-11-20</td>\n      <td>2007</td>\n      <td>R</td>\n      <td>158 Min</td>\n      <td>Cult Movies, Dramas, Thrillers</td>\n      <td>A political cartoonist, a crime reporter and a...</td>\n    </tr>\n    <tr>\n      <th>8803</th>\n      <td>S8804</td>\n      <td>Tv Show</td>\n      <td>Zombie Dumb</td>\n      <td>NIL</td>\n      <td>NIL</td>\n      <td>NIL</td>\n      <td>2019-07-01</td>\n      <td>2018</td>\n      <td>TV-Y7</td>\n      <td>2 Seasons</td>\n      <td>Kids' Tv, Korean Tv Shows, Tv Comedies</td>\n      <td>While living alone in a spooky town, a young g...</td>\n    </tr>\n    <tr>\n      <th>8804</th>\n      <td>S8805</td>\n      <td>Movie</td>\n      <td>Zombieland</td>\n      <td>Ruben Fleischer</td>\n      <td>Jesse Eisenberg, Woody Harrelson, Emma Stone, ...</td>\n      <td>United States</td>\n      <td>2019-11-01</td>\n      <td>2009</td>\n      <td>R</td>\n      <td>88 Min</td>\n      <td>Comedies, Horror Movies</td>\n      <td>Looking to survive in a world taken over by zo...</td>\n    </tr>\n    <tr>\n      <th>8805</th>\n      <td>S8806</td>\n      <td>Movie</td>\n      <td>Zoom</td>\n      <td>Peter Hewitt</td>\n      <td>Tim Allen, Courteney Cox, Chevy Chase, Kate Ma...</td>\n      <td>United States</td>\n      <td>2020-01-11</td>\n      <td>2006</td>\n      <td>PG</td>\n      <td>88 Min</td>\n      <td>Children &amp; Family Movies, Comedies</td>\n      <td>Dragged from civilian life, a former superhero...</td>\n    </tr>\n    <tr>\n      <th>8806</th>\n      <td>S8807</td>\n      <td>Movie</td>\n      <td>Zubaan</td>\n      <td>Mozez Singh</td>\n      <td>Vicky Kaushal, Sarah-Jane Dias, Raaghav Chanan...</td>\n      <td>India</td>\n      <td>2019-03-02</td>\n      <td>2015</td>\n      <td>TV-14</td>\n      <td>111 Min</td>\n      <td>Dramas, International Movies, Music &amp; Musicals</td>\n      <td>A scrappy but poor boy worms his way into a ty...</td>\n    </tr>\n  </tbody>\n</table>\n<p>8807 rows × 12 columns</p>\n</div>"
          },
          "metadata": {}
        }
      ],
      "execution_count": 126
    },
    {
      "id": "6d0192a0-3280-4fd7-aa3d-cd7cb29f3a05",
      "cell_type": "code",
      "source": "",
      "metadata": {
        "trusted": true
      },
      "outputs": [],
      "execution_count": null
    }
  ]
}